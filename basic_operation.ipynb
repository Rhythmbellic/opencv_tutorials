import numpy as np
import cv2
import matplotlib.pyplot as plt
img=np.zeros((512,512,3),np.uint8)
img
#plotting image using matplotlib
plt.imshow(img)
#plt.axis("off")
plt.show()
print(cv2.__version__)
!wget https://moderncomputervision.s3.eu-west-2.amazonaws.com/images.zip
!unzip --q images.zip
image=cv2.imread('/content/images/truck.jpg')
plt.imshow(image)
plt.show()
def imshow(title="",image=None):
  plt.imshow(cv2.cvtColor(image,cv2.COLOR_BGR2RGB))
  plt.title(title)
  plt.show()
imshow("truck",image)
cv2.imwrite('output.jpg',image)
image.shape
h=int(image.shape[0])
w=int(image.shape[1])
c=int(image.shape[2])
print('the height of the iimage is ',h)
print('the width of the iimage is ',w)
print('the number of the channels of the iimage is ',c)
