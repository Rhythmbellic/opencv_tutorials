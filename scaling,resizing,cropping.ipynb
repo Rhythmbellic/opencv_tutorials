{
  "cells": [
    {
      "cell_type": "code",
      "execution_count": null,
      "metadata": {
        "id": "VcHgV0S1x8Nm"
      },
      "outputs": [],
      "source": [
        "# Our Setup, Import Libaries, Create our Imshow Function and Download our Images\n",
        "import cv2\n",
        "import numpy as np\n",
        "from matplotlib import pyplot as plt\n",
        "\n",
        "# Define our imshow function\n",
        "def imshow(title = \"Image\", image = None, size = 10):\n",
        "    w, h = image.shape[0], image.shape[1]\n",
        "    aspect_ratio = w/h\n",
        "    plt.figure(figsize=(size * aspect_ratio,size))\n",
        "    plt.imshow(cv2.cvtColor(image, cv2.COLOR_BGR2RGB))\n",
        "    plt.title(title)\n",
        "    plt.show()\n",
        "\n",
        "# Download and unzip our images\n",
        "!wget https://moderncomputervision.s3.eu-west-2.amazonaws.com/images.zip\n",
        "!unzip -qq images.zip"
      ]
    },
    {
      "cell_type": "markdown",
      "metadata": {
        "id": "9FEVFsgcytJf"
      },
      "source": [
        "### **Types of re-scaling Methods in OpenCV**\n",
        "\n",
        "- **INTER_NEAREST** – a nearest-neighbor interpolation\n",
        "- **INTER_LINEAR** – a bilinear interpolation (used by default)\n",
        "- **INTER_AREA** – resampling using pixel area relation. It may be a preferred method for image decimation, as it gives moire’-free results. But when the image is zoomed, it is similar to theINTER_NEAREST method.\n",
        "- **INTER_CUBIC** – a bicubic interpolation over 4×4 pixel neighborhood\n",
        "- **INTER_LANCZOS4** – a Lanczos interpolation over 8×8 pixel neighborhood\n",
        "\n",
        "See more on their performance - https://chadrick-kwag.net/cv2-resize-interpolation-methods/"
      ]
    },
    {
      "cell_type": "code",
      "execution_count": null,
      "metadata": {
        "colab": {
          "background_save": true
        },
        "id": "Xj6UPs2Hy-JD"
      },
      "outputs": [],
      "source": [
        "# load our input image\n",
        "image = cv2.imread('images/oxfordlibrary.jpeg')\n",
        "imshow(\"Scaling - Linear Interpolation\", image)\n",
        "\n",
        "# If no interpolation is specified cv.INTER_LINEAR is used as default\n",
        "# Let's make our image 3/4 of it's original size\n",
        "image_scaled = cv2.resize(image, None, fx=0.75, fy=0.75)\n",
        "imshow(\"0.75x Scaling - Linear Interpolation\", image_scaled)\n",
        "\n",
        "# Let's double the size of our image\n",
        "img_scaled2 = cv2.resize(image, None, fx=2, fy=2, interpolation = cv2.INTER_CUBIC)\n",
        "imshow(\"2x Scaling - Inter Cubic\", img_scaled2)\n",
        "\n",
        "# Let's double the size of our image using inter_nearest interpolation\n",
        "img_scaled3 = cv2.resize(image, None, fx=2, fy=2, interpolation = cv2.INTER_NEAREST)\n",
        "imshow(\"2x Scaling - Inter Nearest\", img_scaled3)\n",
        "\n",
        "# Let's skew the re-sizing by setting exact dimensions\n",
        "img_scaled4 = cv2.resize(image, (900, 400), interpolation = cv2.INTER_AREA)\n",
        "imshow(\"Scaling - Inter Area\", img_scaled4)"
      ]
    },
    {
      "cell_type": "code",
      "execution_count": null,
      "metadata": {
        "colab": {
          "background_save": true
        },
        "id": "xK7dKwdnzu3I"
      },
      "outputs": [],
      "source": [
        "image = cv2.imread('images/oxfordlibrary.jpeg')\n",
        "\n",
        "smaller = cv2.pyrDown(image)\n",
        "larger = cv2.pyrUp(smaller)\n",
        "\n",
        "imshow(\"Original\", image)\n",
        "imshow('Smaller', smaller)\n",
        "imshow('Larger', larger)\n",
        "\n",
        "even_smaller = cv2.pyrDown(smaller)\n",
        "imshow('Even Smaller', even_smaller)"
      ]
    },
    {
      "cell_type": "code",
      "source": [
        "image = cv2.imread('images/oxfordlibrary.jpeg')\n",
        "\n",
        "# Get our image dimensions\n",
        "height, width = image.shape[:2]\n",
        "\n",
        "# Let's get the starting pixel coordiantes (top  left of cropping rectangle)\n",
        "# using 0.25 to get the x,y position that is 1/4 down from the top left (0,0)\n",
        "start_row, start_col = int(height * .25), int(width * .25)\n",
        "\n",
        "# Let's get the ending pixel coordinates (bottom right)\n",
        "end_row, end_col = int(height * .75), int(width * .75)\n",
        "\n",
        "# Simply use indexing to crop out the rectangle we desire\n",
        "cropped = image[start_row:end_row , start_col:end_col]\n",
        "\n",
        "imshow(\"Original Image\", image)\n",
        "\n",
        "# The cv2.rectangle function draws a rectangle over our image (in-place operation)\n",
        "copy = image.copy()\n",
        "cv2.rectangle(copy, (start_col,start_row), (end_col,end_row), (0,255,255), 10)\n",
        "\n",
        "imshow(\"Area we are cropping\", copy)\n",
        "\n",
        "imshow(\"Cropped Image\", cropped)"
      ],
      "metadata": {
        "id": "xfStBJlWIzQ5"
      },
      "execution_count": null,
      "outputs": []
    }
  ],
  "metadata": {
    "colab": {
      "provenance": [],
      "authorship_tag": "ABX9TyNeBrCcvx7GJpCxJ/uxI2H7"
    },
    "kernelspec": {
      "display_name": "Python 3",
      "name": "python3"
    },
    "language_info": {
      "name": "python"
    }
  },
  "nbformat": 4,
  "nbformat_minor": 0
}